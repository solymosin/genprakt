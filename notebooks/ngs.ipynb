{
 "cells": [
  {
   "cell_type": "markdown",
   "metadata": {},
   "source": [
    "# NGS\n",
    "\n",
    "https://www.youtube.com/watch?v=9vNBYyHedLg\n",
    "\n",
    "https://www.youtube.com/watch?v=ToKUGz_YhC4\n",
    "\n",
    "https://www.youtube.com/watch?v=9YxExTSwgPM\n",
    "\n",
    "\n",
    "\n",
    "![](https://assets.illumina.com/content/dam/illumina-marketing/images/product/supporting-data-and-figures/nextera-mate-pair-library-prep-kit-web-graphic.png)\n"
   ]
  },
  {
   "cell_type": "markdown",
   "metadata": {},
   "source": [
    "## Short Reads"
   ]
  },
  {
   "cell_type": "markdown",
   "metadata": {},
   "source": [
    "### SRA\n",
    "\n",
    "https://www.ncbi.nlm.nih.gov/sra/docs/\n",
    "\n",
    "példa: SRR1660257: https://www.ncbi.nlm.nih.gov/sra/?term=SRR1660257\n",
    "\n",
    "\n",
    "https://www.ncbi.nlm.nih.gov/geo/\n",
    "\n",
    "https://www.ebi.ac.uk/ena\n"
   ]
  },
  {
   "cell_type": "code",
   "execution_count": null,
   "metadata": {},
   "outputs": [],
   "source": [
    "%%bash \n",
    "\n",
    "export PATH=$PATH:/usr/local/ncbi/sra-tools/bin\n",
    "\n",
    "mkdir gyak06\n",
    "cd gyak06\n",
    "\n",
    "fastq-dump SRR1660257"
   ]
  },
  {
   "cell_type": "code",
   "execution_count": null,
   "metadata": {},
   "outputs": [],
   "source": [
    "%%bash \n",
    "\n",
    "cd gyak06\n",
    "\n",
    "ls -lh"
   ]
  },
  {
   "cell_type": "code",
   "execution_count": null,
   "metadata": {},
   "outputs": [],
   "source": [
    "%%bash \n",
    "\n",
    "cd gyak06\n",
    "\n",
    "head SRR1660257.fastq"
   ]
  },
  {
   "cell_type": "markdown",
   "metadata": {},
   "source": [
    "### FASTQ\n",
    "\n",
    "http://support.illumina.com/content/dam/illumina-support/help/BaseSpaceHelp_v2/Content/Vault/Informatics/Sequencing_Analysis/BS/swSEQ_mBS_FASTQFiles.htm\n",
    "\n",
    "https://en.wikipedia.org/wiki/FASTQ_format\n",
    "\n",
    "\n",
    "Minden readhez négy sor tartozik:\n",
    "- az első sorban van a read azonosítója, illetve lehet még hozzá tartozó leírás\n",
    "- a második sorban van a read nyers nukleotidsora\n",
    "- a harmadik + jellel kezdődő sor a jel után lehet üres vagy a read azonosítóját is tartalmazhatja\n",
    "- a negyedik sorban az egyes nukleotidok leolvasási minőségére vonatkozó kódolás (részletek 74. lapon: Csaba Ortutay, Zsuzsanna Ortutay: Molecular Data Analysis Using R. 2017, Wiley-Blackwell, ISBN: 978-1-119-16502-6. \n",
    "https://www.wiley.com/en-hu/Molecular+Data+Analysis+Using+R-p-9781119165026)\n",
    "\n",
    "BAM-ban tárolva:\n",
    "https://gatkforums.broadinstitute.org/gatk/discussion/5990/what-is-ubam-and-why-is-it-better-than-fastq-for-storing-unmapped-sequence-data"
   ]
  },
  {
   "cell_type": "markdown",
   "metadata": {},
   "source": [
    "### CSFASTA\n",
    "\n",
    "ABi SOLiD sequencer: http://cutadapt.readthedocs.io/en/stable/colorspace.html\n",
    "\n",
    "CSFASTA-file\n",
    "```\n",
    "# Title: s0205_20110422_FRAG_BC_miRNA_MeDIP\n",
    ">1_5_224_F3\n",
    "T.222200232103..132..030.020..000.00\n",
    ">1_5_656_F3\n",
    "T.31311231.331..233..122.122..122.10\n",
    ">1_5_1005_F3\"\n",
    "T.122221311011..212..312.033..303.32\n",
    "```\n",
    "|   | A | C | G | T |\n",
    "|---|---|---|---|---|\n",
    "| A | 0 | 1 | 2 | 3 |\n",
    "| C | 1 | 0 | 3 | 2 |\n",
    "| G | 2 | 3 | 0 | 1 |\n",
    "| T | 3 | 2 | 1 | 0 |\n",
    "\n",
    "\n",
    "QUAL-file\n",
    "```\n",
    "# Title: s0205_20110422_FRAG_BC_miRNA_MeDIP\n",
    ">1_5_224_F3\"\n",
    "-1 27 28 30 32 21 31 30 31 27 4 28 31 -1 -1 17 28 31 -1 -1 24 30 25 -1 22 25 21 -1 -1 30 28 21 -1 27 31\n",
    ">1_5_656_F3\"\n",
    "-1 33 4 31 29 16 33 4 32 -1 20 33 4 -1 -1 25 31 10 -1 -1 12 25 5 -1 22 4 7 -1 -1 5 4 7 -1 4 4\n",
    ">1_5_1005_F3\"\n",
    "-1 31 20 33 32 32 30 32 31 26 26 25 17 -1 -1 30 26 6 -1 -1 27 23 28 -1 25 31 10 -1 -1 29 14 19 -1 33 33\n",
    "```\n"
   ]
  },
  {
   "cell_type": "code",
   "execution_count": null,
   "metadata": {},
   "outputs": [],
   "source": [
    "%%bash \n",
    "\n",
    "cd gyak06\n",
    "\n",
    "fastq-dump -X 10000 --split-files SRR1972739"
   ]
  },
  {
   "cell_type": "code",
   "execution_count": null,
   "metadata": {},
   "outputs": [],
   "source": [
    "library(ShortRead)\n",
    "library(seqTools)\n",
    "library(qrqc)\n",
    "library(BiocParallel)\n",
    "\n",
    "setwd('gyak06')\n",
    "\n",
    "fajlom = 'SRR1660257.fastq'\n",
    "\n",
    "readek = readFastq(fajlom)\n"
   ]
  },
  {
   "cell_type": "code",
   "execution_count": null,
   "metadata": {},
   "outputs": [],
   "source": [
    "slotNames(readek)"
   ]
  },
  {
   "cell_type": "code",
   "execution_count": null,
   "metadata": {},
   "outputs": [],
   "source": [
    "id(readek)"
   ]
  },
  {
   "cell_type": "code",
   "execution_count": null,
   "metadata": {},
   "outputs": [],
   "source": [
    "sread(readek)"
   ]
  },
  {
   "cell_type": "code",
   "execution_count": null,
   "metadata": {},
   "outputs": [],
   "source": [
    "kval = quality(readek)\n",
    "kval"
   ]
  },
  {
   "cell_type": "markdown",
   "metadata": {},
   "source": [
    "PHRED minőségi pontszám: \n",
    "\n",
    "$Q_{PHRED} = -10 \\times log_{10} P$\n",
    "\n",
    "Ennek valószínűséggé való átalakítása:\n",
    "\n",
    "$P = 10^{-Q_{PHRED}/10}$\n",
    "\n",
    "Néhány minőségi érték a döntésekhez:\n",
    "\n",
    "\n",
    "| $Q_{PHRED}$  | hiba  |         | megbízhatóság |\n",
    "|----|-------|---------|---------------|\n",
    "| 10 | 10%   |(1/10)   | 90%           |\n",
    "| 20 | 1%    |(1/100)  | 99%           |\n",
    "| 30 | 0.1%  |(1/1000) | 99.9%         |\n",
    "| 40 | 0.01% |(1/10000)| 99.99%        |\n",
    "\n",
    "Solexa:\n",
    "\n",
    "$Q_{Solexa}=-10\\times log_{10}\\left(\\frac{P}{1-P}\\right)$\n",
    "\n",
    "Átváltások:\n",
    "\n",
    "$Q_{PHRED}=-10\\times log_{10}\\left(10^{Q_{Solexa}/10}+1\\right)$\n",
    "\n",
    "$Q_{Solexa}=-10\\times log_{10}\\left(10^{Q_{PHRED}/10}-1\\right)$\n",
    "<table style=\"width:60%\">\n",
    "  <tr>\n",
    "    <th></th>\n",
    "    <th>ASCII</th> \n",
    "    <th>Minőségi pont</th>    \n",
    "    <th></th>\n",
    "  </tr>\n",
    "  <tr>\n",
    "    <th></th>\n",
    "    <th>Tartomány</th> \n",
    "    <th>Típus</th>    \n",
    "    <th>Tartomány</th>\n",
    "  </tr>    \n",
    "  <tr>\n",
    "    <td>Sanger standard</td>\n",
    "    <td></td>\n",
    "    <td></td>\n",
    "    <td></td>\n",
    "  </tr>    \n",
    "  <tr>\n",
    "    <td>  fastq-sanger</td>\n",
    "    <td>33 - 126</td>\n",
    "    <td>PHRED</td>\n",
    "    <td>0 - 93</td>\n",
    "  </tr>       \n",
    "  <tr>\n",
    "    <td>Solexa/régebbi Illumina</td>\n",
    "    <td></td>\n",
    "    <td></td>\n",
    "    <td></td>\n",
    "  </tr>    \n",
    "  <tr>\n",
    "    <td>  fastq-solexa</td>\n",
    "    <td>59 - 126</td>\n",
    "    <td>Solexa</td>\n",
    "    <td>-5 - 62</td>\n",
    "  </tr>        \n",
    "  <tr>\n",
    "    <td>Illumina 1.3+</td>\n",
    "    <td></td>\n",
    "    <td></td>\n",
    "    <td></td>\n",
    "  </tr>    \n",
    "  <tr>\n",
    "    <td>  fastq-illumina</td>\n",
    "    <td>64 - 126</td>\n",
    "    <td>PHRED</td>\n",
    "    <td>0 - 62</td>\n",
    "  </tr>            \n",
    "</table>\n",
    "\n",
    "\n",
    "Cock PJA, Fields CJ, Goto N, Heuer ML, Rice PM The sanger FASTQ file format for sequences with quality scores and the Solexa/Illumina FASTQ variants. Nucleic Acids Research 2010 Vol.38 No.6 1767-1771\n"
   ]
  },
  {
   "cell_type": "code",
   "execution_count": null,
   "metadata": {},
   "outputs": [],
   "source": [
    "phredTable()"
   ]
  },
  {
   "cell_type": "code",
   "execution_count": null,
   "metadata": {},
   "outputs": [],
   "source": [
    "m = as(kval, 'matrix')\n",
    "m[1,]"
   ]
  },
  {
   "cell_type": "markdown",
   "metadata": {},
   "source": [
    "## Readek minőségellenőrzése\n",
    "\n",
    "https://www.ncbi.nlm.nih.gov/pmc/articles/PMC2752612/\n",
    "\n",
    "FastQC: https://www.bioinformatics.babraham.ac.uk/projects/fastqc/\n",
    "\n",
    "https://www.youtube.com/watch?v=bz93ReOv87Y"
   ]
  },
  {
   "cell_type": "code",
   "execution_count": null,
   "metadata": {},
   "outputs": [],
   "source": [
    "%%bash \n",
    "\n",
    "# export PATH=$PATH:/usr/local/ncbi/sra-tools/bin\n",
    "\n",
    "mkdir gyak07\n",
    "cd gyak07\n",
    "\n",
    "fastq-dump SRR1660259\n",
    "\n",
    "ls -lh"
   ]
  },
  {
   "cell_type": "code",
   "execution_count": null,
   "metadata": {},
   "outputs": [],
   "source": [
    "library(fastqcr)\n",
    "\n",
    "setwd('gyak07')\n",
    "\n",
    "fastqc() "
   ]
  },
  {
   "cell_type": "code",
   "execution_count": null,
   "metadata": {},
   "outputs": [],
   "source": [
    "minosegi.fajl = 'FASTQC/SRR1660259_fastqc.zip'\n",
    "\n",
    "qc_report(\n",
    "    qc.path = minosegi.fajl, \n",
    "    template = 'minta_jelentes.Rmd', \n",
    "    result.file ='osszefoglalo', \n",
    "    interpret = TRUE, \n",
    "    experiment = 'minőségellenőrzési példa',\n",
    "    preview = FALSE\n",
    ")"
   ]
  },
  {
   "cell_type": "markdown",
   "metadata": {},
   "source": [
    "## Gyenge minőségű nukleotidok, readek kiszűrése\n",
    "\n",
    "trimming, filtering"
   ]
  },
  {
   "cell_type": "code",
   "execution_count": null,
   "metadata": {},
   "outputs": [],
   "source": [
    "library(seqTools)\n",
    "\n",
    "fajlom = 'SRR1660259.fastq'\n",
    "\n",
    "trimFastq(fajlom, \n",
    "  outfile       = 'marad.fq.gz',\n",
    "  discard       = 'kimarad.fq.gz',\n",
    "  qualDiscard   = 10, # All reads which contain one or more phred scores < qualDiscard will be discarded.\n",
    "  fixTrimLeft   = 0,  # Prefix of this size will be trimmed.\n",
    "  fixTrimRight  = 0,  # Suffix of this size will be trimmed.\n",
    "  qualTrimLeft  = 30, # Prefix where all phred scores are < qualTrimLeft will be trimmed.\n",
    "  qualTrimRight = 30, # Suffix where all phred scores are < qualTrimRight will be trimmed.\n",
    "  minSeqLen     = 50  # All reads where sequence length after (fixed and quality based) trimming is < minSeqLen will be discarded.\n",
    ")"
   ]
  },
  {
   "cell_type": "markdown",
   "metadata": {},
   "source": [
    "## Readek illesztése referencia-genomra"
   ]
  },
  {
   "cell_type": "code",
   "execution_count": null,
   "metadata": {},
   "outputs": [],
   "source": [
    "%%bash \n",
    "\n",
    "cd gyak07\n",
    "\n",
    "export PATH=$PATH:/home/bioinfo/edirect\n",
    "\n",
    "efetch -db=nuccore -format=fasta -id=AF086833 > ebola1976.fa\n",
    "\n",
    "ls -lh"
   ]
  },
  {
   "cell_type": "code",
   "execution_count": null,
   "metadata": {},
   "outputs": [],
   "source": [
    "%%bash \n",
    "\n",
    "cd gyak07\n",
    "\n",
    "head ebola1976.fa"
   ]
  },
  {
   "cell_type": "code",
   "execution_count": null,
   "metadata": {},
   "outputs": [],
   "source": [
    "%%bash \n",
    "\n",
    "cd gyak07\n",
    "\n",
    "export PATH=$PATH:/home/bioinfo/bwa\n",
    "\n",
    "bwa index -p Ebola ebola1976.fa\n",
    "\n",
    "ls -lh"
   ]
  },
  {
   "cell_type": "code",
   "execution_count": null,
   "metadata": {
    "scrolled": true
   },
   "outputs": [],
   "source": [
    "%%bash \n",
    "\n",
    "cd gyak07\n",
    "\n",
    "export PATH=$PATH:/home/bioinfo/bwa\n",
    "\n",
    "bwa mem Ebola SRR1660259.fastq > illesztes01.sam\n",
    "\n",
    "ls -lh"
   ]
  },
  {
   "cell_type": "markdown",
   "metadata": {},
   "source": [
    "### Sequence Alignment Map (SAM) fájl\n",
    "\n",
    "Az illesztés eredményét tartalmazó tabulátorral osztott fájl (CSV), az egyes részek nem azonos oszlopszámúak \n",
    "(https://samtools.github.io/hts-specs/SAMv1.pdf)."
   ]
  },
  {
   "cell_type": "code",
   "execution_count": null,
   "metadata": {},
   "outputs": [],
   "source": [
    "%%bash \n",
    "\n",
    "cd gyak07\n",
    "\n",
    "head illesztes01.sam"
   ]
  },
  {
   "cell_type": "markdown",
   "metadata": {},
   "source": [
    "\n",
    "<b>Fejléc:</b>\n",
    "```\n",
    "@SQ\tSN:AF086833.2\tLN:18959\n",
    "@PG\tID:bwa\tPN:bwa\tVN:0.7.17-r1188\tCL:bwa mem ../genomes/Ebola SRR1660257.fastq\n",
    "```\n",
    "<b>Illesztési eredmény 1. sora:</b>\n",
    "```\n",
    "SRR1660257.1\t16\tAF086833.2\t8058\t60\t100M\t*\t0\t0TTGTCTTTTAGTTTTTCTTCAGATTGCTTCATGGAAAAGCTCAGCCTCAAATCAATGAAACCAGGATTTAATTATATGGATTACTTGAATCTAAGATTAC\tDDDDCEECFFFFHHHGHHJJJJJJIJJJJJJJJJJJJJJJIJJJJJIJJJJJJJJJJJIGJJJJJJJJJJJJJJJJJJJJJIHJIJJHHHHHFFFFFCBC\tNM:i:0\tMD:Z:100\tAS:i:100XS:i:0\n",
    "```\n",
    "<b>Kötelező elemei:</b>\n",
    "```\n",
    "QNAME = SRR1660257.1 # Query template NAME\n",
    "FLAG  = 16           # bitwise FLAG; 16=SEQ being reverse complemented\n",
    "RNAME = AF086833.2   # Reference sequence NAME\n",
    "POS   = 8058         # 1-based leftmost mapping POSition\n",
    "MAPQ  = 60           # MAPping Quality (https://genome.sph.umich.edu/wiki/Mapping_Quality_Scores)\n",
    "CIGAR = 100M         # CIGAR string\n",
    "RNEXT = *            # Ref. name of the mate/next read\n",
    "PNEXT = 0            # Position of the mate/next read\n",
    "TLEN  = 0            # observed Template LENgth\n",
    "SEQ   = TTGTCTTTTAGTTTTTCTTCAGATTGCTTCATGGAAAAGCTCAGCCTCAAATCAATGAAACCAGGATTTAATTATATGGATTACTTGAATCTAAGATTAC\n",
    "QUAL  = DDDDCEECFFFFHHHGHHJJJJJJIJJJJJJJJJJJJJJJIJJJJJIJJJJJJJJJJJIGJJJJJJJJJJJJJJJJJJJJJIHJIJJHHHHHFFFFFCBC\n",
    "```\n",
    "<b>Opcionális elemei</b> (http://samtools.github.io/hts-specs/SAMtags.pdf):\n",
    "```\n",
    "NM:i:0              # Edit distance to the reference, including ambiguous bases but excluding clipping\n",
    "MD:Z:100            # String for mismatching positions, the field ought to match the CIGAR string.\n",
    "AS:i:100            # Alignment score generated by aligner\n",
    "XS:i:0              # Reserved for end users\n",
    "```\n",
    "\n",
    "A MAPQ azt fejezi ki PHRED-pontszámmal, hogy a read milyen valószínűséggel lett hibásan illesztve. \n",
    "\n",
    "<b>CIGAR string értelmezéséhez:</b>\n",
    "```\n",
    "M   alignment match (can be a sequence match or mismatch)\n",
    "I   insertion to the reference\n",
    "D   deletion from the reference\n",
    "N   skipped region from the reference\n",
    "S   soft clipping (clipped sequences present in SEQ)\n",
    "H   hard clipping (clipped sequences NOT present in SEQ)\n",
    "P   padding (silent deletion from padded reference)\n",
    "=   sequence match\n",
    "X   sequence mismatch\n",
    "```\n"
   ]
  },
  {
   "cell_type": "markdown",
   "metadata": {},
   "source": [
    "### Binary Alignment Map (BAM) fájl\n",
    "\n",
    "Bináris, tömörített SAM-fájl. A kisebb mérete mellett nagy előnye, hogy lekérdezhető, kisebb részletek kiolvashatók belőle anélkül, hogy a teljes állományt be kellene tölteni a memóriába.\n"
   ]
  },
  {
   "cell_type": "code",
   "execution_count": null,
   "metadata": {},
   "outputs": [],
   "source": [
    "%%bash \n",
    "\n",
    "cd gyak07\n",
    "\n",
    "samtools view -Sb illesztes01.sam > illesztes01.bam\n",
    "\n",
    "ls -lh"
   ]
  },
  {
   "cell_type": "code",
   "execution_count": null,
   "metadata": {},
   "outputs": [],
   "source": [
    "%%bash\n",
    "\n",
    "cd gyak07\n",
    "\n",
    "samtools sort illesztes01.bam > illesztes01_sorted.bam\n",
    "\n",
    "samtools index illesztes01_sorted.bam\n",
    "\n",
    "ls -lh"
   ]
  },
  {
   "cell_type": "code",
   "execution_count": null,
   "metadata": {},
   "outputs": [],
   "source": [
    "# TERMINÁLBAN !!!\n",
    "\n",
    "cd gyak07\n",
    "\n",
    "samtools tview illesztes01_sorted.bam\n",
    "\n",
    "samtools tview illesztes01_sorted.bam ebola1976.fa\n"
   ]
  },
  {
   "cell_type": "markdown",
   "metadata": {},
   "source": [
    "- ?: súgó ablakot nyit\n",
    "- .: forward illesztésű, a referenciával megegyező nukleotid\n",
    "- ,: reverse illesztésű, a referenciával megegyező nukleotid\n",
    "- ACGT: forward illesztésű, referenciától eltérő nukleotid\n",
    "- acgt: reverse illesztésű, referenciától eltérő nukleotid\n",
    "- *: törölt bázis"
   ]
  },
  {
   "cell_type": "code",
   "execution_count": null,
   "metadata": {},
   "outputs": [],
   "source": [
    "%%bash\n",
    "\n",
    "cd gyak07\n",
    "\n",
    "samtools view -Sb -F 4 illesztes01.sam > illesztes01_van.bam \n",
    "\n",
    "samtools view -Sb -f 4 illesztes01.sam > illesztes01_nincs.bam\n",
    "\n",
    "ls -lh"
   ]
  },
  {
   "cell_type": "code",
   "execution_count": null,
   "metadata": {},
   "outputs": [],
   "source": [
    "%%bash\n",
    "\n",
    "cd gyak07\n",
    "\n",
    "export PATH=$PATH:/home/bioinfo/bwa\n",
    "\n",
    "bwa mem Ebola SRR1660259.fastq | samtools view -Sb -F 4 > illesztes02_van.bam\n",
    "\n",
    "ls -lh"
   ]
  },
  {
   "cell_type": "code",
   "execution_count": null,
   "metadata": {},
   "outputs": [],
   "source": [
    "%%bash\n",
    "\n",
    "cd gyak07\n",
    "\n",
    "export PATH=$PATH:/home/bioinfo/bwa\n",
    "\n",
    "bwa mem Ebola SRR1660259.fastq | samtools view -Sb -F 4 | samtools sort > illesztes03_van_sorted.bam\n",
    "\n",
    "samtools index illesztes03_van_sorted.bam\n",
    "\n",
    "ls -lh"
   ]
  },
  {
   "cell_type": "code",
   "execution_count": null,
   "metadata": {},
   "outputs": [],
   "source": [
    "%%bash\n",
    "\n",
    "cd gyak07\n",
    "\n",
    "# samtools mpileup illesztes03_van_sorted.bam > illesztes03_van_sorted.pileup\n",
    "\n",
    "samtools mpileup -f ebola1976.fa illesztes03_van_sorted.bam > illesztes03_van_sorted.pileup\n",
    "\n",
    "tail illesztes03_van_sorted.pileup"
   ]
  },
  {
   "cell_type": "markdown",
   "metadata": {},
   "source": [
    "Oszlopok jelentése:\n",
    "1. a referencia szekvencia azonosítója\n",
    "2. a szekvencia nukleotidjának pozíciója (1-ről induló sorszám)\n",
    "3. a referencia nukleotid az adott pozíción\n",
    "4. az adott pozíciót lefedő readek száma\n",
    "5. az illesztett readek nukleotidja az adott pozícióban\n",
    "6. az illesztett readek adott pozícióbeli nukleotidjának minősége\n",
    "\n",
    "\n",
    "További információ: https://en.wikipedia.org/wiki/Pileup_format\n"
   ]
  },
  {
   "cell_type": "code",
   "execution_count": null,
   "metadata": {},
   "outputs": [],
   "source": [
    "library(Rsamtools)\n",
    "\n",
    "\n",
    "bam.fajlom = 'illesztes03_van_sorted.bam'\n",
    "\n",
    "countBam(bam.fajlom)"
   ]
  },
  {
   "cell_type": "code",
   "execution_count": null,
   "metadata": {},
   "outputs": [],
   "source": [
    "idxstatsBam(bam.fajlom)"
   ]
  },
  {
   "cell_type": "code",
   "execution_count": null,
   "metadata": {},
   "outputs": [],
   "source": [
    "# átlagos lefedettség\n",
    "\n",
    "ref.szek.hossza = idxstatsBam(bam.fajlom)$seqlength\n",
    "illesztett.nukleotidok.szama = countBam(bam.fajlom)$nucleotides\n",
    "\n",
    "illesztett.nukleotidok.szama / ref.szek.hossza"
   ]
  },
  {
   "cell_type": "code",
   "execution_count": null,
   "metadata": {},
   "outputs": [],
   "source": [
    "olvasasi.parameterek = PileupParam(max_depth=50)\n",
    "\n",
    "my.pileup = pileup(bam.fajlom, pileupParam=olvasasi.parameterek)\n",
    "\n",
    "head(my.pileup)"
   ]
  },
  {
   "cell_type": "code",
   "execution_count": null,
   "metadata": {},
   "outputs": [],
   "source": [
    "# http://ggplot2.org/\n",
    "\n",
    "library(ggplot2)\n",
    "\n",
    "ggplot(data=my.pileup, aes(x=pos, y=count)) + geom_point()\n"
   ]
  },
  {
   "cell_type": "code",
   "execution_count": null,
   "metadata": {},
   "outputs": [],
   "source": [
    "ggplot(data=my.pileup, aes(x=pos, y=count)) + geom_point() + theme_bw()"
   ]
  },
  {
   "cell_type": "code",
   "execution_count": null,
   "metadata": {},
   "outputs": [],
   "source": [
    "ggplot(data=my.pileup, aes(x=pos, y=count, color=strand)) + geom_point() + theme_bw()"
   ]
  },
  {
   "cell_type": "code",
   "execution_count": null,
   "metadata": {},
   "outputs": [],
   "source": [
    "ggplot(data=my.pileup, aes(x=pos, y=count, color=strand)) + geom_point() + theme_bw() + geom_smooth()"
   ]
  },
  {
   "cell_type": "code",
   "execution_count": null,
   "metadata": {},
   "outputs": [],
   "source": [
    "library(Gviz)\n",
    "\n",
    "# https://www.bioconductor.org/packages/release/bioc/html/Gviz.html\n",
    "# https://www.bioconductor.org/packages/release/bioc/vignettes/Gviz/inst/doc/Gviz.pdf\n",
    "\n",
    "options(ucscChromosomeNames=FALSE)\n",
    "# https://www.ncbi.nlm.nih.gov/nuccore/KM034562.1\n",
    "# http://hgdownload.cse.ucsc.edu/downloads.html#ebola_virus\n",
    "\n",
    "illesztes.track = AlignmentsTrack(bam.fajlom, start=2000, end=3000)\n",
    "\n",
    "plotTracks(\n",
    "  list(illesztes.track), \n",
    "  type=c('coverage', 'pileup'), \n",
    "  chromosome='AF086833.2', \n",
    "  from=2000, \n",
    "  to=3000\n",
    ")"
   ]
  },
  {
   "cell_type": "code",
   "execution_count": null,
   "metadata": {},
   "outputs": [],
   "source": [
    "tengely.track = GenomeAxisTrack()\n",
    "\n",
    "plotTracks(\n",
    "  list(tengely.track, illesztes.track), \n",
    "  type=c('coverage', 'pileup'), \n",
    "  chromosome='AF086833.2', \n",
    "  from=2000, \n",
    "  to=3000\n",
    ")"
   ]
  },
  {
   "cell_type": "code",
   "execution_count": null,
   "metadata": {},
   "outputs": [],
   "source": [
    "library(rentrez)\n",
    "library(seqinr)\n",
    "\n",
    "ebola = entrez_fetch(db='nuccore', id='AF086833.2', rettype='fasta')\n",
    "referencia = read.fasta(textConnection(ebola), as.string=TRUE, seqonly=TRUE)\n",
    "referencia.szekvencia = referencia[[1]]\n",
    "referencia.szekvencia = DNAStringSet(referencia.szekvencia)\n",
    "names(referencia.szekvencia) = 'AF086833.2'\n",
    "\n",
    "szekvencia.track = SequenceTrack(referencia.szekvencia)\n",
    "\n",
    "plotTracks(\n",
    "  trackList = list(tengely.track, illesztes.track, szekvencia.track), \n",
    "  type = c('coverage', 'pileup'), \n",
    "  chromosome = 'AF086833.2', \n",
    "  from = 2000, \n",
    "  to = 3000\n",
    ")"
   ]
  },
  {
   "cell_type": "code",
   "execution_count": null,
   "metadata": {},
   "outputs": [],
   "source": [
    "kiemeles = HighlightTrack(\n",
    "  trackList = list(illesztes.track, szekvencia.track),\n",
    "  chromosome = 'AF086833.2',\n",
    "  start = 2218,\n",
    "  end = 2222\n",
    ")\n",
    "\n",
    "plotTracks(\n",
    "  list(tengely.track, kiemeles), \n",
    "  type = c('coverage', 'pileup'), \n",
    "  chromosome = 'AF086833.2', \n",
    "  from = 2200, \n",
    "  to = 2240\n",
    ")"
   ]
  },
  {
   "cell_type": "code",
   "execution_count": null,
   "metadata": {},
   "outputs": [],
   "source": [
    "displayPars(kiemeles)$fill = 'blue'\n",
    "displayPars(kiemeles)$col = 'transparent'\n",
    "displayPars(kiemeles)$alpha = 0.3\n",
    "            \n",
    "plotTracks(\n",
    "  list(tengely.track, kiemeles), \n",
    "  type = c('coverage', 'pileup'), \n",
    "  chromosome = 'AF086833.2', \n",
    "  from = 2200, \n",
    "  to = 2240\n",
    ")"
   ]
  },
  {
   "cell_type": "code",
   "execution_count": null,
   "metadata": {},
   "outputs": [],
   "source": []
  }
 ],
 "metadata": {
  "kernelspec": {
   "display_name": "R",
   "language": "R",
   "name": "ir"
  },
  "language_info": {
   "codemirror_mode": "r",
   "file_extension": ".r",
   "mimetype": "text/x-r-source",
   "name": "R",
   "pygments_lexer": "r",
   "version": "3.4.3"
  }
 },
 "nbformat": 4,
 "nbformat_minor": 2
}
